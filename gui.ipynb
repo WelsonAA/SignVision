{
 "cells": [
  {
   "cell_type": "code",
   "execution_count": 1,
   "metadata": {
    "collapsed": true,
    "ExecuteTime": {
     "end_time": "2023-05-19T20:09:20.090663200Z",
     "start_time": "2023-05-19T20:09:20.069663500Z"
    }
   },
   "outputs": [],
   "source": []
  },
  {
   "cell_type": "code",
   "execution_count": 1,
   "outputs": [],
   "source": [],
   "metadata": {
    "collapsed": false,
    "ExecuteTime": {
     "end_time": "2023-05-19T20:09:20.131662500Z",
     "start_time": "2023-05-19T20:09:20.087665500Z"
    }
   }
  },
  {
   "cell_type": "code",
   "execution_count": 2,
   "outputs": [
    {
     "ename": "TclError",
     "evalue": "image \"pyimage1\" doesn't exist",
     "output_type": "error",
     "traceback": [
      "\u001B[1;31m---------------------------------------------------------------------------\u001B[0m",
      "\u001B[1;31mTclError\u001B[0m                                  Traceback (most recent call last)",
      "Cell \u001B[1;32mIn[2], line 46\u001B[0m\n\u001B[0;32m     44\u001B[0m \u001B[38;5;66;03m# Create a canvas widget\u001B[39;00m\n\u001B[0;32m     45\u001B[0m canvas \u001B[38;5;241m=\u001B[39m tk\u001B[38;5;241m.\u001B[39mCanvas(root, width\u001B[38;5;241m=\u001B[39m\u001B[38;5;241m1400\u001B[39m, height\u001B[38;5;241m=\u001B[39m\u001B[38;5;241m1400\u001B[39m)\n\u001B[1;32m---> 46\u001B[0m \u001B[43mcanvas\u001B[49m\u001B[38;5;241;43m.\u001B[39;49m\u001B[43mcreate_image\u001B[49m\u001B[43m(\u001B[49m\u001B[38;5;241;43m0\u001B[39;49m\u001B[43m,\u001B[49m\u001B[43m \u001B[49m\u001B[38;5;241;43m0\u001B[39;49m\u001B[43m,\u001B[49m\u001B[43m \u001B[49m\u001B[43manchor\u001B[49m\u001B[38;5;241;43m=\u001B[39;49m\u001B[43mtk\u001B[49m\u001B[38;5;241;43m.\u001B[39;49m\u001B[43mNW\u001B[49m\u001B[43m,\u001B[49m\u001B[43m \u001B[49m\u001B[43mimage\u001B[49m\u001B[38;5;241;43m=\u001B[39;49m\u001B[43mbackground_image\u001B[49m\u001B[43m)\u001B[49m\n\u001B[0;32m     47\u001B[0m canvas\u001B[38;5;241m.\u001B[39mpack()\n\u001B[0;32m     49\u001B[0m \u001B[38;5;66;03m# Create a frame for the buttons\u001B[39;00m\n",
      "File \u001B[1;32m~\\AppData\\Local\\Programs\\Python\\Python310\\lib\\tkinter\\__init__.py:2819\u001B[0m, in \u001B[0;36mCanvas.create_image\u001B[1;34m(self, *args, **kw)\u001B[0m\n\u001B[0;32m   2817\u001B[0m \u001B[38;5;28;01mdef\u001B[39;00m \u001B[38;5;21mcreate_image\u001B[39m(\u001B[38;5;28mself\u001B[39m, \u001B[38;5;241m*\u001B[39margs, \u001B[38;5;241m*\u001B[39m\u001B[38;5;241m*\u001B[39mkw):\n\u001B[0;32m   2818\u001B[0m \u001B[38;5;250m    \u001B[39m\u001B[38;5;124;03m\"\"\"Create image item with coordinates x1,y1.\"\"\"\u001B[39;00m\n\u001B[1;32m-> 2819\u001B[0m     \u001B[38;5;28;01mreturn\u001B[39;00m \u001B[38;5;28;43mself\u001B[39;49m\u001B[38;5;241;43m.\u001B[39;49m\u001B[43m_create\u001B[49m\u001B[43m(\u001B[49m\u001B[38;5;124;43m'\u001B[39;49m\u001B[38;5;124;43mimage\u001B[39;49m\u001B[38;5;124;43m'\u001B[39;49m\u001B[43m,\u001B[49m\u001B[43m \u001B[49m\u001B[43margs\u001B[49m\u001B[43m,\u001B[49m\u001B[43m \u001B[49m\u001B[43mkw\u001B[49m\u001B[43m)\u001B[49m\n",
      "File \u001B[1;32m~\\AppData\\Local\\Programs\\Python\\Python310\\lib\\tkinter\\__init__.py:2805\u001B[0m, in \u001B[0;36mCanvas._create\u001B[1;34m(self, itemType, args, kw)\u001B[0m\n\u001B[0;32m   2803\u001B[0m \u001B[38;5;28;01melse\u001B[39;00m:\n\u001B[0;32m   2804\u001B[0m     cnf \u001B[38;5;241m=\u001B[39m {}\n\u001B[1;32m-> 2805\u001B[0m \u001B[38;5;28;01mreturn\u001B[39;00m \u001B[38;5;28mself\u001B[39m\u001B[38;5;241m.\u001B[39mtk\u001B[38;5;241m.\u001B[39mgetint(\u001B[38;5;28;43mself\u001B[39;49m\u001B[38;5;241;43m.\u001B[39;49m\u001B[43mtk\u001B[49m\u001B[38;5;241;43m.\u001B[39;49m\u001B[43mcall\u001B[49m\u001B[43m(\u001B[49m\n\u001B[0;32m   2806\u001B[0m \u001B[43m    \u001B[49m\u001B[38;5;28;43mself\u001B[39;49m\u001B[38;5;241;43m.\u001B[39;49m\u001B[43m_w\u001B[49m\u001B[43m,\u001B[49m\u001B[43m \u001B[49m\u001B[38;5;124;43m'\u001B[39;49m\u001B[38;5;124;43mcreate\u001B[39;49m\u001B[38;5;124;43m'\u001B[39;49m\u001B[43m,\u001B[49m\u001B[43m \u001B[49m\u001B[43mitemType\u001B[49m\u001B[43m,\u001B[49m\n\u001B[0;32m   2807\u001B[0m \u001B[43m    \u001B[49m\u001B[38;5;241;43m*\u001B[39;49m\u001B[43m(\u001B[49m\u001B[43margs\u001B[49m\u001B[43m \u001B[49m\u001B[38;5;241;43m+\u001B[39;49m\u001B[43m \u001B[49m\u001B[38;5;28;43mself\u001B[39;49m\u001B[38;5;241;43m.\u001B[39;49m\u001B[43m_options\u001B[49m\u001B[43m(\u001B[49m\u001B[43mcnf\u001B[49m\u001B[43m,\u001B[49m\u001B[43m \u001B[49m\u001B[43mkw\u001B[49m\u001B[43m)\u001B[49m\u001B[43m)\u001B[49m\u001B[43m)\u001B[49m)\n",
      "\u001B[1;31mTclError\u001B[0m: image \"pyimage1\" doesn't exist"
     ]
    }
   ],
   "source": [
    "import tkinter as tk\n",
    "from PIL import ImageTk, Image\n",
    "\n",
    "def create_window():\n",
    "    # Create the main window\n",
    "    window = tk.Toplevel()\n",
    "    window.geometry(\"500x500\")\n",
    "\n",
    "    # Create a canvas widget\n",
    "    canvas = tk.Canvas(window, width=500, height=500)\n",
    "\n",
    "    # Load the image\n",
    "    background_image = ImageTk.PhotoImage(Image.open(\"signlanguage2.png\"))\n",
    "\n",
    "    # Add the image to the canvas\n",
    "    canvas.create_image(0, 0, anchor=tk.NW, image=background_image)\n",
    "\n",
    "    # Pack the canvas to fill the entire window\n",
    "    canvas.pack(fill=tk.BOTH, expand=True)\n",
    "\n",
    "    # Add other widgets or content to the window\n",
    "\n",
    "    # Start the tkinter event loop\n",
    "    window.mainloop()\n",
    "\n",
    "def open_text_to_sign_window():\n",
    "    text_to_sign_window = tk.Toplevel(root)\n",
    "    text_to_sign_window.title(\"Text to Sign Window\")\n",
    "    # Add widgets and customize the text to sign window here\n",
    "\n",
    "def open_sign_to_text_window():\n",
    "    sign_to_text_window = tk.Toplevel(root)\n",
    "    sign_to_text_window.title(\"Sign to Text Window\")\n",
    "    # Add widgets and customize the sign to text window here\n",
    "\n",
    "root = tk.Tk()\n",
    "\n",
    "# Set the window size\n",
    "root.geometry(\"1400x1400\")\n",
    "\n",
    "# Load the image\n",
    "background_image = ImageTk.PhotoImage(Image.open(\"signlanguage2.png\"))\n",
    "\n",
    "# Create a canvas widget\n",
    "canvas = tk.Canvas(root, width=1400, height=1400)\n",
    "canvas.create_image(0, 0, anchor=tk.NW, image=background_image)\n",
    "canvas.pack()\n",
    "\n",
    "# Create a frame for the buttons\n",
    "frame = tk.Frame(root, bg=\"white\", bd=1, highlightbackground=\"white\", highlightthickness=1)\n",
    "frame.place(relx=0.5, rely=0.5, anchor=tk.CENTER)\n",
    "\n",
    "# Create two transparent-like buttons within the frame\n",
    "button1 = tk.Button(frame, text=\"Text to Sign\", width=30, height=5, font=(\"Arial\", 20), command=open_text_to_sign_window, bd=0, highlightthickness=2, highlightbackground=\"white\", bg='#FAEBD7')\n",
    "button1.pack(pady=10)\n",
    "\n",
    "button2 = tk.Button(frame, text=\"Sign to Text\", width=30, height=5, font=(\"Arial\", 20), command=open_sign_to_text_window, bd=0, highlightthickness=2, highlightbackground=\"white\", bg='#FAEBD7')\n",
    "button2.pack(pady=10)\n",
    "\n",
    "root.mainloop()"
   ],
   "metadata": {
    "collapsed": false,
    "ExecuteTime": {
     "end_time": "2023-05-19T20:09:20.573079600Z",
     "start_time": "2023-05-19T20:09:20.152666400Z"
    }
   }
  },
  {
   "cell_type": "code",
   "execution_count": 5,
   "outputs": [],
   "source": [
    "canvas.create_image?"
   ],
   "metadata": {
    "collapsed": false,
    "ExecuteTime": {
     "end_time": "2023-05-19T20:11:42.881620200Z",
     "start_time": "2023-05-19T20:11:42.841624Z"
    }
   }
  },
  {
   "cell_type": "code",
   "execution_count": null,
   "outputs": [],
   "source": [],
   "metadata": {
    "collapsed": false
   }
  }
 ],
 "metadata": {
  "kernelspec": {
   "display_name": "Python 3",
   "language": "python",
   "name": "python3"
  },
  "language_info": {
   "codemirror_mode": {
    "name": "ipython",
    "version": 2
   },
   "file_extension": ".py",
   "mimetype": "text/x-python",
   "name": "python",
   "nbconvert_exporter": "python",
   "pygments_lexer": "ipython2",
   "version": "2.7.6"
  }
 },
 "nbformat": 4,
 "nbformat_minor": 0
}
