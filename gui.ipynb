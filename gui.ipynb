{
 "cells": [
  {
   "cell_type": "code",
   "execution_count": 12,
   "metadata": {
    "collapsed": true,
    "ExecuteTime": {
     "end_time": "2023-05-17T12:17:00.882051900Z",
     "start_time": "2023-05-17T12:17:00.865054300Z"
    }
   },
   "outputs": [],
   "source": []
  },
  {
   "cell_type": "code",
   "execution_count": 12,
   "outputs": [],
   "source": [],
   "metadata": {
    "collapsed": false,
    "ExecuteTime": {
     "end_time": "2023-05-17T12:17:00.927050Z",
     "start_time": "2023-05-17T12:17:00.883051200Z"
    }
   }
  },
  {
   "cell_type": "code",
   "execution_count": null,
   "outputs": [],
   "source": [
    "import tkinter as tk\n",
    "\n",
    "def create_window():\n",
    "    # Create the main window\n",
    "    window = tk.Toplevel()\n",
    "    window.geometry(\"500x500\")\n",
    "\n",
    "    # Create a canvas widget\n",
    "    canvas = tk.Canvas(window, width=500, height=500)\n",
    "\n",
    "    # Load the image\n",
    "    #background_image = tk.PhotoImage(file=\"back.png\")\n",
    "\n",
    "    # Add the image to the canvas\n",
    "    #canvas.create_image(0, 0, anchor=tk.NW, image=background_image)\n",
    "\n",
    "    # Pack the canvas to fill the entire window\n",
    "    #canvas.pack(fill=tk.BOTH, expand=True)\n",
    "\n",
    "    # Add other widgets or content to the window\n",
    "\n",
    "    # Start the tkinter event loop\n",
    "    window.mainloop()\n",
    "\n",
    "def open_text_to_sign_window():\n",
    "    text_to_sign_window = tk.Toplevel(root)\n",
    "    text_to_sign_window.title(\"Text to Sign Window\")\n",
    "    # Add widgets and customize the text to sign window here\n",
    "\n",
    "def open_sign_to_text_window():\n",
    "    sign_to_text_window = tk.Toplevel(root)\n",
    "    sign_to_text_window.title(\"Sign to Text Window\")\n",
    "    # Add widgets and customize the sign to text window here\n",
    "\n",
    "root = tk.Tk()\n",
    "\n",
    "# Set the window size\n",
    "root.geometry(\"1500x1500\")\n",
    "\n",
    "# Create a frame to hold the buttons\n",
    "frame = tk.Frame(root)\n",
    "frame.pack(pady=200)  # Add vertical padding to center the frame\n",
    "\n",
    "# Load the image\n",
    "#background_image = tk.PhotoImage(file=\"path_to_your_image.png\")\n",
    "\n",
    "# Create a canvas widget\n",
    "canvas = tk.Canvas(root, width=1500, height=1500)\n",
    "#canvas.create_image(0, 0, anchor=tk.NW, image=background_image)\n",
    "canvas.pack()\n",
    "\n",
    "# Create two buttons and pack them in the frame\n",
    "button1 = tk.Button(root, text=\"Text to Sign\", width=50, height=10, font=(\"Arial\", 20), command=open_text_to_sign_window)\n",
    "button1.place(x=400, y=700)  # Set the button position using absolute coordinates\n",
    "\n",
    "button2 = tk.Button(root, text=\"Sign to Text\", width=50, height=10, font=(\"Arial\", 20), command=open_sign_to_text_window)\n",
    "button2.place(x=900, y=700)  # Set the button position using absolute coordinates\n",
    "\n",
    "root.mainloop()\n"
   ],
   "metadata": {
    "collapsed": false,
    "is_executing": true,
    "ExecuteTime": {
     "start_time": "2023-05-17T14:07:31.831285500Z"
    }
   }
  },
  {
   "cell_type": "code",
   "execution_count": 38,
   "outputs": [],
   "source": [],
   "metadata": {
    "collapsed": false
   }
  },
  {
   "cell_type": "code",
   "execution_count": 39,
   "outputs": [],
   "source": [],
   "metadata": {
    "collapsed": false
   }
  }
 ],
 "metadata": {
  "kernelspec": {
   "display_name": "Python 3",
   "language": "python",
   "name": "python3"
  },
  "language_info": {
   "codemirror_mode": {
    "name": "ipython",
    "version": 2
   },
   "file_extension": ".py",
   "mimetype": "text/x-python",
   "name": "python",
   "nbconvert_exporter": "python",
   "pygments_lexer": "ipython2",
   "version": "2.7.6"
  }
 },
 "nbformat": 4,
 "nbformat_minor": 0
}
